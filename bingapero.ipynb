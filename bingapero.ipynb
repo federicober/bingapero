{
 "cells": [
  {
   "cell_type": "code",
   "execution_count": null,
   "id": "7ed438fc-c12c-4b6d-9c00-4cc060f5d5c9",
   "metadata": {},
   "outputs": [],
   "source": [
    "import itertools\n",
    "import operator\n",
    "\n",
    "import matplotlib.pyplot as plt\n",
    "import numpy as np"
   ]
  },
  {
   "cell_type": "code",
   "execution_count": null,
   "id": "5fd0532d-d3ab-4f38-adb5-376221fc133b",
   "metadata": {},
   "outputs": [],
   "source": [
    "n = 4\n",
    "size = 10\n",
    "\n",
    "title = \"BingApéro\"\n",
    "\n",
    "elements = [\n",
    "    ...,\n",
    "]"
   ]
  },
  {
   "cell_type": "code",
   "execution_count": null,
   "id": "4ea24dd2-9c59-455d-a4b9-0e3c581e00c3",
   "metadata": {},
   "outputs": [],
   "source": [
    "def create_img(elems):\n",
    "    fig, ax = plt.subplots(figsize=(size, size * 1.5))\n",
    "    ax.axis(\"off\")\n",
    "\n",
    "    def to_cord(idx: int) -> float:\n",
    "        return (idx + 0.5) / n\n",
    "\n",
    "    for i in range(n + 1):\n",
    "        line_cords = [i / n, i / n], [0, 1]\n",
    "        # vertical lines\n",
    "        ax.plot(*line_cords[:], color=\"black\")\n",
    "        # horizontal lines\n",
    "        ax.plot(*line_cords[::-1], color=\"black\")\n",
    "\n",
    "    all_texts = []\n",
    "    for elem, (i, j) in zip(elems, itertools.product(range(n), repeat=2)):\n",
    "        x, y = to_cord(i), to_cord(j)\n",
    "        text = ax.text(x, y, elem, ha=\"center\", va=\"center\", font=\"Purisa\")\n",
    "        all_texts.append(((i, j), (x, y), text))\n",
    "\n",
    "    transf = ax.transData.inverted()\n",
    "    renderer = fig.canvas.get_renderer()\n",
    "\n",
    "    for _, _, text in all_texts:\n",
    "        fontsize = text.get_fontsize()\n",
    "        bbox = text.get_window_extent(renderer=renderer).transformed(transf)\n",
    "        bbox_size = max(np.abs(bbox.p1 - bbox.p0))\n",
    "        if bbox_size == 0:\n",
    "            continue\n",
    "        size_factor = 1 / n / bbox_size * 0.7\n",
    "        text.set_fontsize(int(size_factor * fontsize))\n",
    "\n",
    "    ax.plot((0, 1), (1.4, 1.4), color=\"white\", alpha=0)\n",
    "    ax.text(0.5, 1.25, title, ha=\"center\", va=\"center\", font=\"Purisa\", fontsize=70)\n",
    "    return fig, ax\n",
    "\n",
    "\n",
    "for i in range(20):\n",
    "    elements_ = elements.copy()\n",
    "    np.random.shuffle(elements_)\n",
    "    fig, _ = create_img(elements_)\n",
    "    fig.savefig(f\"images/bingapero_{i}.jpg\")"
   ]
  }
 ],
 "metadata": {
  "kernelspec": {
   "display_name": "std-3.10",
   "language": "python",
   "name": "std-3.10"
  },
  "language_info": {
   "codemirror_mode": {
    "name": "ipython",
    "version": 3
   },
   "file_extension": ".py",
   "mimetype": "text/x-python",
   "name": "python",
   "nbconvert_exporter": "python",
   "pygments_lexer": "ipython3",
   "version": "3.10.4"
  }
 },
 "nbformat": 4,
 "nbformat_minor": 5
}
